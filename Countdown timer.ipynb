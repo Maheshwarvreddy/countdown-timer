{
  "nbformat": 4,
  "nbformat_minor": 0,
  "metadata": {
    "colab": {
      "provenance": []
    },
    "kernelspec": {
      "name": "python3",
      "display_name": "Python 3"
    },
    "language_info": {
      "name": "python"
    }
  },
  "cells": [
    {
      "cell_type": "code",
      "execution_count": null,
      "metadata": {
        "id": "32obOw3T7fbY"
      },
      "outputs": [],
      "source": [
        "import time\n",
        "my_time = int(input(\"Enter the time in seconds: \" ))\n",
        "for i in (range(my_time,0,-1)):\n",
        "  seconds = i % 60\n",
        "  minutes = int(i / 60) % 60\n",
        "  hours = int(i / 3600)\n",
        "  print(f\"{hours:02}:{minutes:02}:{seconds:02}\")\n",
        "\n",
        "  time.sleep(1)\n",
        "\n",
        "print(\"Wake up\")"
      ]
    }
  ]
}